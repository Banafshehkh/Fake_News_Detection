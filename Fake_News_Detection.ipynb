{
  "nbformat": 4,
  "nbformat_minor": 0,
  "metadata": {
    "colab": {
      "provenance": [],
      "authorship_tag": "ABX9TyM9SLrIq6h6mmz222r4nunu",
      "include_colab_link": true
    },
    "kernelspec": {
      "name": "python3",
      "display_name": "Python 3"
    },
    "language_info": {
      "name": "python"
    }
  },
  "cells": [
    {
      "cell_type": "markdown",
      "metadata": {
        "id": "view-in-github",
        "colab_type": "text"
      },
      "source": [
        "<a href=\"https://colab.research.google.com/github/Banafshehkh/Fake_News_Detection/blob/main/Fake_News_Detection.ipynb\" target=\"_parent\"><img src=\"https://colab.research.google.com/assets/colab-badge.svg\" alt=\"Open In Colab\"/></a>"
      ]
    },
    {
      "cell_type": "code",
      "execution_count": 3,
      "metadata": {
        "id": "9r9U6BUH97yj"
      },
      "outputs": [],
      "source": [
        "#Author: Banafsheh Khazali\n",
        "#Date: April 26, 2023"
      ]
    },
    {
      "cell_type": "code",
      "source": [
        "from google.colab import drive\n",
        "drive.mount(\"/content/drive\")"
      ],
      "metadata": {
        "colab": {
          "base_uri": "https://localhost:8080/"
        },
        "id": "juOqMi0q-CHY",
        "outputId": "5b4053e7-a575-49e3-8982-18495717c9ae"
      },
      "execution_count": 4,
      "outputs": [
        {
          "output_type": "stream",
          "name": "stdout",
          "text": [
            "Mounted at /content/drive\n"
          ]
        }
      ]
    },
    {
      "cell_type": "markdown",
      "source": [
        "# **Libraries**"
      ],
      "metadata": {
        "id": "N2zcxy-k_0zL"
      }
    },
    {
      "cell_type": "code",
      "source": [
        "import pandas as pd\n",
        "import numpy as np\n",
        "import os\n",
        "import re\n",
        "\n",
        "import nltk\n",
        "from nltk.corpus import stopwords\n",
        "nltk.download('stopwords')\n",
        "nltk.download('punkt')\n",
        "import string\n",
        "from nltk.tokenize import word_tokenize\n",
        "from nltk.stem import PorterStemmer\n",
        "\n",
        "from bs4 import BeautifulSoup"
      ],
      "metadata": {
        "colab": {
          "base_uri": "https://localhost:8080/"
        },
        "id": "6E07AucFFOjg",
        "outputId": "4af2e7d3-016d-4d07-b78f-3ae9e7d9923e"
      },
      "execution_count": 7,
      "outputs": [
        {
          "output_type": "stream",
          "name": "stderr",
          "text": [
            "[nltk_data] Downloading package stopwords to /root/nltk_data...\n",
            "[nltk_data]   Package stopwords is already up-to-date!\n",
            "[nltk_data] Downloading package punkt to /root/nltk_data...\n",
            "[nltk_data]   Package punkt is already up-to-date!\n"
          ]
        }
      ]
    },
    {
      "cell_type": "code",
      "source": [
        "train_data = pd.read_csv(\"/content/drive/MyDrive/train.csv\")\n",
        "train_data.head(5)"
      ],
      "metadata": {
        "colab": {
          "base_uri": "https://localhost:8080/",
          "height": 206
        },
        "id": "hidwszQu-QgU",
        "outputId": "900f3930-d1ee-4ce8-bdb9-0fd2f4a1e6a3"
      },
      "execution_count": 9,
      "outputs": [
        {
          "output_type": "execute_result",
          "data": {
            "text/plain": [
              "                                           Statement  Label\n",
              "0  Says the Annies List political group supports ...  False\n",
              "1  When did the decline of coal start? It started...   True\n",
              "2  Hillary Clinton agrees with John McCain \"by vo...   True\n",
              "3  Health care reform legislation is likely to ma...  False\n",
              "4  The economic turnaround started at the end of ...   True"
            ],
            "text/html": [
              "\n",
              "  <div id=\"df-6de6dc5c-5a64-4486-981e-67de972c988c\">\n",
              "    <div class=\"colab-df-container\">\n",
              "      <div>\n",
              "<style scoped>\n",
              "    .dataframe tbody tr th:only-of-type {\n",
              "        vertical-align: middle;\n",
              "    }\n",
              "\n",
              "    .dataframe tbody tr th {\n",
              "        vertical-align: top;\n",
              "    }\n",
              "\n",
              "    .dataframe thead th {\n",
              "        text-align: right;\n",
              "    }\n",
              "</style>\n",
              "<table border=\"1\" class=\"dataframe\">\n",
              "  <thead>\n",
              "    <tr style=\"text-align: right;\">\n",
              "      <th></th>\n",
              "      <th>Statement</th>\n",
              "      <th>Label</th>\n",
              "    </tr>\n",
              "  </thead>\n",
              "  <tbody>\n",
              "    <tr>\n",
              "      <th>0</th>\n",
              "      <td>Says the Annies List political group supports ...</td>\n",
              "      <td>False</td>\n",
              "    </tr>\n",
              "    <tr>\n",
              "      <th>1</th>\n",
              "      <td>When did the decline of coal start? It started...</td>\n",
              "      <td>True</td>\n",
              "    </tr>\n",
              "    <tr>\n",
              "      <th>2</th>\n",
              "      <td>Hillary Clinton agrees with John McCain \"by vo...</td>\n",
              "      <td>True</td>\n",
              "    </tr>\n",
              "    <tr>\n",
              "      <th>3</th>\n",
              "      <td>Health care reform legislation is likely to ma...</td>\n",
              "      <td>False</td>\n",
              "    </tr>\n",
              "    <tr>\n",
              "      <th>4</th>\n",
              "      <td>The economic turnaround started at the end of ...</td>\n",
              "      <td>True</td>\n",
              "    </tr>\n",
              "  </tbody>\n",
              "</table>\n",
              "</div>\n",
              "      <button class=\"colab-df-convert\" onclick=\"convertToInteractive('df-6de6dc5c-5a64-4486-981e-67de972c988c')\"\n",
              "              title=\"Convert this dataframe to an interactive table.\"\n",
              "              style=\"display:none;\">\n",
              "        \n",
              "  <svg xmlns=\"http://www.w3.org/2000/svg\" height=\"24px\"viewBox=\"0 0 24 24\"\n",
              "       width=\"24px\">\n",
              "    <path d=\"M0 0h24v24H0V0z\" fill=\"none\"/>\n",
              "    <path d=\"M18.56 5.44l.94 2.06.94-2.06 2.06-.94-2.06-.94-.94-2.06-.94 2.06-2.06.94zm-11 1L8.5 8.5l.94-2.06 2.06-.94-2.06-.94L8.5 2.5l-.94 2.06-2.06.94zm10 10l.94 2.06.94-2.06 2.06-.94-2.06-.94-.94-2.06-.94 2.06-2.06.94z\"/><path d=\"M17.41 7.96l-1.37-1.37c-.4-.4-.92-.59-1.43-.59-.52 0-1.04.2-1.43.59L10.3 9.45l-7.72 7.72c-.78.78-.78 2.05 0 2.83L4 21.41c.39.39.9.59 1.41.59.51 0 1.02-.2 1.41-.59l7.78-7.78 2.81-2.81c.8-.78.8-2.07 0-2.86zM5.41 20L4 18.59l7.72-7.72 1.47 1.35L5.41 20z\"/>\n",
              "  </svg>\n",
              "      </button>\n",
              "      \n",
              "  <style>\n",
              "    .colab-df-container {\n",
              "      display:flex;\n",
              "      flex-wrap:wrap;\n",
              "      gap: 12px;\n",
              "    }\n",
              "\n",
              "    .colab-df-convert {\n",
              "      background-color: #E8F0FE;\n",
              "      border: none;\n",
              "      border-radius: 50%;\n",
              "      cursor: pointer;\n",
              "      display: none;\n",
              "      fill: #1967D2;\n",
              "      height: 32px;\n",
              "      padding: 0 0 0 0;\n",
              "      width: 32px;\n",
              "    }\n",
              "\n",
              "    .colab-df-convert:hover {\n",
              "      background-color: #E2EBFA;\n",
              "      box-shadow: 0px 1px 2px rgba(60, 64, 67, 0.3), 0px 1px 3px 1px rgba(60, 64, 67, 0.15);\n",
              "      fill: #174EA6;\n",
              "    }\n",
              "\n",
              "    [theme=dark] .colab-df-convert {\n",
              "      background-color: #3B4455;\n",
              "      fill: #D2E3FC;\n",
              "    }\n",
              "\n",
              "    [theme=dark] .colab-df-convert:hover {\n",
              "      background-color: #434B5C;\n",
              "      box-shadow: 0px 1px 3px 1px rgba(0, 0, 0, 0.15);\n",
              "      filter: drop-shadow(0px 1px 2px rgba(0, 0, 0, 0.3));\n",
              "      fill: #FFFFFF;\n",
              "    }\n",
              "  </style>\n",
              "\n",
              "      <script>\n",
              "        const buttonEl =\n",
              "          document.querySelector('#df-6de6dc5c-5a64-4486-981e-67de972c988c button.colab-df-convert');\n",
              "        buttonEl.style.display =\n",
              "          google.colab.kernel.accessAllowed ? 'block' : 'none';\n",
              "\n",
              "        async function convertToInteractive(key) {\n",
              "          const element = document.querySelector('#df-6de6dc5c-5a64-4486-981e-67de972c988c');\n",
              "          const dataTable =\n",
              "            await google.colab.kernel.invokeFunction('convertToInteractive',\n",
              "                                                     [key], {});\n",
              "          if (!dataTable) return;\n",
              "\n",
              "          const docLinkHtml = 'Like what you see? Visit the ' +\n",
              "            '<a target=\"_blank\" href=https://colab.research.google.com/notebooks/data_table.ipynb>data table notebook</a>'\n",
              "            + ' to learn more about interactive tables.';\n",
              "          element.innerHTML = '';\n",
              "          dataTable['output_type'] = 'display_data';\n",
              "          await google.colab.output.renderOutput(dataTable, element);\n",
              "          const docLink = document.createElement('div');\n",
              "          docLink.innerHTML = docLinkHtml;\n",
              "          element.appendChild(docLink);\n",
              "        }\n",
              "      </script>\n",
              "    </div>\n",
              "  </div>\n",
              "  "
            ]
          },
          "metadata": {},
          "execution_count": 9
        }
      ]
    },
    {
      "cell_type": "markdown",
      "source": [
        "## **Preprocessing**"
      ],
      "metadata": {
        "id": "Uk_URZwe_43m"
      }
    },
    {
      "cell_type": "markdown",
      "source": [
        "In this step, preprocessing steps are done:\n",
        "\n",
        "\n",
        "*   lowercasing\n",
        "*   tokenizing and stemming\n",
        "*   removing punctuations\n",
        "*   removing stop word\n",
        "*   removing null values\n",
        "*   removing html tags\n",
        "\n"
      ],
      "metadata": {
        "id": "GhpeltSM_9d9"
      }
    },
    {
      "cell_type": "code",
      "source": [
        "def preprocessing_pipeline(data_folder):\n",
        "  csv_files = [f for f in os.listdir(data_folder) if f.endswith('.csv')]\n",
        "  stop_words = set(stopwords.words('english'))\n",
        "  ps = PorterStemmer()\n",
        "\n",
        "  punc = set(string.punctuation)\n",
        "\n",
        "  for csv_file in csv_files:\n",
        "    csv_path = os.path.join(data_folder,csv_file)\n",
        "    df = pd.read_csv(csv_path)\n",
        "\n",
        "    #make everything lowercase\n",
        "    df.iloc[:, 0] = df.iloc[:, 0].str.lower() \n",
        "    # remove stop words\n",
        "    df.iloc[:, 0] = df.iloc[:, 0].apply(lambda x: \" \".join([word for word in x.split() if word not in stop_words]))\n",
        "    # remove punctuations\n",
        "    df.iloc[:, 0] = df.iloc[:, 0].apply(lambda x: \" \".join([char for char in x.split() if char not in punc ]))\n",
        "    #remove html tags\n",
        "    df.iloc[:, 0] = df.iloc[:,0].apply(lambda x: BeautifulSoup(x, 'html.parser').get_text())\n",
        "    #tokenizing and stemming\n",
        "    df.iloc[:, 0] = df.iloc[:, 0].apply(lambda x: word_tokenize(x.lower()))\n",
        "    df.iloc[:, 0] = df.iloc[:, 0].apply(lambda x: [ps.stem(token) for token in x])\n",
        "    df.iloc[:, 0] = df.iloc[:, 0].apply(lambda x: \" \".join(x))\n",
        "    # remove missing values\n",
        "    df = df.dropna()\n",
        "\n",
        "    # display(df)\n",
        "\n",
        "    #save preprosessed files into a new one\n",
        "    new_csv_file = os.path.splitext(csv_file)[0] + 'preprocessed.csv'\n",
        "    new_csv_path = os.path.join(data_folder, new_csv_file)\n",
        "    df.to_csv(new_csv_path, index=False)\n",
        "\n",
        "\n",
        "preprocessing_pipeline(\"/content/drive/MyDrive/Data\")"
      ],
      "metadata": {
        "colab": {
          "base_uri": "https://localhost:8080/"
        },
        "id": "Tu93wqvb-oCH",
        "outputId": "5b46fa9c-23ae-4bde-b73e-7b6a4291fa29"
      },
      "execution_count": 41,
      "outputs": [
        {
          "output_type": "stream",
          "name": "stderr",
          "text": [
            "<ipython-input-41-9992479baa52>:19: MarkupResemblesLocatorWarning: The input looks more like a filename than markup. You may want to open this file and pass the filehandle into Beautiful Soup.\n",
            "  df.iloc[:, 0] = df.iloc[:,0].apply(lambda x: BeautifulSoup(x, 'html.parser').get_text())\n",
            "<ipython-input-41-9992479baa52>:19: MarkupResemblesLocatorWarning: The input looks more like a filename than markup. You may want to open this file and pass the filehandle into Beautiful Soup.\n",
            "  df.iloc[:, 0] = df.iloc[:,0].apply(lambda x: BeautifulSoup(x, 'html.parser').get_text())\n",
            "<ipython-input-41-9992479baa52>:19: MarkupResemblesLocatorWarning: The input looks more like a filename than markup. You may want to open this file and pass the filehandle into Beautiful Soup.\n",
            "  df.iloc[:, 0] = df.iloc[:,0].apply(lambda x: BeautifulSoup(x, 'html.parser').get_text())\n",
            "<ipython-input-41-9992479baa52>:19: MarkupResemblesLocatorWarning: The input looks more like a filename than markup. You may want to open this file and pass the filehandle into Beautiful Soup.\n",
            "  df.iloc[:, 0] = df.iloc[:,0].apply(lambda x: BeautifulSoup(x, 'html.parser').get_text())\n",
            "<ipython-input-41-9992479baa52>:19: MarkupResemblesLocatorWarning: The input looks more like a filename than markup. You may want to open this file and pass the filehandle into Beautiful Soup.\n",
            "  df.iloc[:, 0] = df.iloc[:,0].apply(lambda x: BeautifulSoup(x, 'html.parser').get_text())\n",
            "<ipython-input-41-9992479baa52>:19: MarkupResemblesLocatorWarning: The input looks more like a filename than markup. You may want to open this file and pass the filehandle into Beautiful Soup.\n",
            "  df.iloc[:, 0] = df.iloc[:,0].apply(lambda x: BeautifulSoup(x, 'html.parser').get_text())\n"
          ]
        }
      ]
    },
    {
      "cell_type": "code",
      "source": [],
      "metadata": {
        "id": "cADgaQqyHuQf"
      },
      "execution_count": null,
      "outputs": []
    }
  ]
}