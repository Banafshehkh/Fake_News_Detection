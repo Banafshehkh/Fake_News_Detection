{
  "nbformat": 4,
  "nbformat_minor": 0,
  "metadata": {
    "colab": {
      "provenance": [],
      "authorship_tag": "ABX9TyM8gvywy/ai7Aypcn34xcCP",
      "include_colab_link": true
    },
    "kernelspec": {
      "name": "python3",
      "display_name": "Python 3"
    },
    "language_info": {
      "name": "python"
    }
  },
  "cells": [
    {
      "cell_type": "markdown",
      "metadata": {
        "id": "view-in-github",
        "colab_type": "text"
      },
      "source": [
        "<a href=\"https://colab.research.google.com/github/Banafshehkh/Fake_News_Detection/blob/main/Data_Preprocessing.ipynb\" target=\"_parent\"><img src=\"https://colab.research.google.com/assets/colab-badge.svg\" alt=\"Open In Colab\"/></a>"
      ]
    },
    {
      "cell_type": "code",
      "execution_count": 1,
      "metadata": {
        "id": "--hvGH6rid7f"
      },
      "outputs": [],
      "source": [
        "#Author: Banafsheh Khazali\n",
        "#Date: April 26, 2023"
      ]
    },
    {
      "cell_type": "code",
      "source": [
        "from google.colab import drive\n",
        "drive.mount(\"/content/drive\")"
      ],
      "metadata": {
        "colab": {
          "base_uri": "https://localhost:8080/"
        },
        "id": "8ghkSq7KiiM2",
        "outputId": "2404fb44-d237-41f5-93fd-dcaea9e9b694"
      },
      "execution_count": 2,
      "outputs": [
        {
          "output_type": "stream",
          "name": "stdout",
          "text": [
            "Mounted at /content/drive\n"
          ]
        }
      ]
    },
    {
      "cell_type": "markdown",
      "source": [
        "# **Libraries**"
      ],
      "metadata": {
        "id": "oGN59-WeiuPg"
      }
    },
    {
      "cell_type": "code",
      "source": [
        "import pandas as pd\n",
        "import numpy as np\n",
        "import os\n",
        "import re\n",
        "\n",
        "import nltk\n",
        "from nltk.corpus import stopwords\n",
        "nltk.download('stopwords')\n",
        "nltk.download('punkt')\n",
        "import string\n",
        "from nltk.tokenize import word_tokenize\n",
        "from nltk.stem import PorterStemmer\n",
        "\n",
        "from bs4 import BeautifulSoup"
      ],
      "metadata": {
        "colab": {
          "base_uri": "https://localhost:8080/"
        },
        "id": "i0a_Wq_OikqJ",
        "outputId": "2f234bbf-9ef3-4f56-b67d-c8cfed28844a"
      },
      "execution_count": 3,
      "outputs": [
        {
          "output_type": "stream",
          "name": "stderr",
          "text": [
            "[nltk_data] Downloading package stopwords to /root/nltk_data...\n",
            "[nltk_data]   Unzipping corpora/stopwords.zip.\n",
            "[nltk_data] Downloading package punkt to /root/nltk_data...\n",
            "[nltk_data]   Unzipping tokenizers/punkt.zip.\n"
          ]
        }
      ]
    },
    {
      "cell_type": "markdown",
      "source": [
        "# **Preprocessing**"
      ],
      "metadata": {
        "id": "V5IZIxyCjVxs"
      }
    },
    {
      "cell_type": "markdown",
      "source": [
        "In this step, preprocessing steps are done:\n",
        "\n",
        "\n",
        "*   lowercasing\n",
        "*   tokenizing and stemming\n",
        "*   removing punctuations\n",
        "*   removing stop word\n",
        "*   removing null values\n",
        "*   removing html tags\n",
        "\n"
      ],
      "metadata": {
        "id": "n7btVonnjY7l"
      }
    },
    {
      "cell_type": "code",
      "source": [
        "def preprocessing_pipeline(data_folder):\n",
        "  csv_files = [f for f in os.listdir(data_folder) if f.endswith('.csv')]\n",
        "  stop_words = set(stopwords.words('english'))\n",
        "  ps = PorterStemmer()\n",
        "\n",
        "  punc = set(string.punctuation)\n",
        "\n",
        "  for csv_file in csv_files:\n",
        "    csv_path = os.path.join(data_folder,csv_file)\n",
        "    df = pd.read_csv(csv_path)\n",
        "\n",
        "    #make everything lowercase\n",
        "    df.iloc[:, 0] = df.iloc[:, 0].str.lower() \n",
        "    # remove stop words\n",
        "    df.iloc[:, 0] = df.iloc[:, 0].apply(lambda x: \" \".join([word for word in x.split() if word not in stop_words]))\n",
        "    # remove punctuations\n",
        "    df.iloc[:, 0] = df.iloc[:, 0].apply(lambda x: \" \".join([char for char in x.split() if char not in punc ]))\n",
        "    #remove html tags\n",
        "    df.iloc[:, 0] = df.iloc[:,0].apply(lambda x: BeautifulSoup(x, 'html.parser').get_text())\n",
        "    #tokenizing and stemming\n",
        "    df.iloc[:, 0] = df.iloc[:, 0].apply(lambda x: word_tokenize(x.lower()))\n",
        "    df.iloc[:, 0] = df.iloc[:, 0].apply(lambda x: [ps.stem(token) for token in x])\n",
        "    df.iloc[:, 0] = df.iloc[:, 0].apply(lambda x: \" \".join(x))\n",
        "    # remove missing values\n",
        "    df = df.dropna()\n",
        "\n",
        "    display(df)\n",
        "\n",
        "    #save preprosessed files into a new one\n",
        "    new_csv_file = os.path.splitext(csv_file)[0] + '_preprocessed.csv'\n",
        "    new_csv_path = os.path.join(data_folder, new_csv_file)\n",
        "    df.to_csv(new_csv_path, index=False)\n",
        "\n",
        "\n",
        "preprocessing_pipeline(\"/content/drive/MyDrive/Data\")"
      ],
      "metadata": {
        "id": "0MhPYS2pi7Ok"
      },
      "execution_count": 5,
      "outputs": []
    }
  ]
}